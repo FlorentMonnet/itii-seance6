{
  "nbformat": 4,
  "nbformat_minor": 0,
  "metadata": {
    "kernelspec": {
      "display_name": "Python 3",
      "language": "python",
      "name": "python3"
    },
    "language_info": {
      "codemirror_mode": {
        "name": "ipython",
        "version": 3
      },
      "file_extension": ".py",
      "mimetype": "text/x-python",
      "name": "python",
      "nbconvert_exporter": "python",
      "pygments_lexer": "ipython3",
      "version": "3.7.6"
    },
    "colab": {
      "name": "seance6.ipynb",
      "provenance": [],
      "collapsed_sections": []
    }
  },
  "cells": [
    {
      "cell_type": "markdown",
      "metadata": {
        "id": "7Uz-DMdF-r60"
      },
      "source": [
        "Ex 1 : La m ́ethode des rectangles\n",
        "On cherche à calculer une intégrale en utilisant la méthode des rectangles.\n",
        "![1.png](attachment:1.png)\n",
        "\n",
        "L’intervalle de l’intégrale est noté [a,b] et la fonction à intégrer f. On divise cet intervalle en n petits segments et on fait la somme des aires des petits rectangles délimités par l’axe des abscisses et la courbe de la fonction f.\n",
        "\n",
        "![2.png](attachment:2.png)\n",
        "\n",
        "1. Ecrire la fontion integrale(f,a,b,n) \n",
        "2. Quelle valeur de n faut-il choisir pour être précis à 10^{-4} près ? Ecrire la fonction qui permette de calculer cette valeur.\n",
        "3. Tester avec la fonction $f(x)=3x^3+2x-1$ sur l'interval [0,10] avec un pas de 0.001\n",
        "4. Tester avec la fonction $g(x)=cos(\\frac {1}{x})$ sur l'interval [-1;1] privé de 0"
      ]
    },
    {
      "cell_type": "code",
      "metadata": {
        "colab": {
          "base_uri": "https://localhost:8080/"
        },
        "id": "cXbz9-CM-r61",
        "outputId": "89b7e2d0-41ea-437d-d87f-6e7b97394892"
      },
      "source": [
        "import math\n",
        "  def integrale(f,a,b,n):\n",
        "  somme=0\n",
        "  tailleSegment=(b-a)/n\n",
        "  for i in range(n+1):\n",
        "    somme+=(f(a) * tailleSegment)\n",
        "    a+= tailleSegment\n",
        "  return somme\n",
        "\n",
        "def precision(a,b,precision):\n",
        "  n=1\n",
        "  while((b-a)/n>=precision):\n",
        "    n+=1  \n",
        "  return n\n",
        "def f(x):\n",
        "  return 3*x**3+2*x-1\n",
        "\n",
        "def g(x):\n",
        "  return math.cos(1/x)\n",
        "\n",
        "print(\"Intégrale de f de 0 à 10 avec une précision de 0.0001 : \" +str(integrale(f,0,10,precision(0,10,0.0001))))\n",
        "integraleGauche=integrale(g,-1,-0.0001,precision(-1,-0.0001,0.0001))\n",
        "integraleDroite=integrale(g,0.0001,1,precision(0.0001,1,0.0001))\n",
        "integraleTotal=integraleGauche+integraleDroite\n",
        "print(\"Intégrale de g de -1 à 1 privé de 0 : \"+str(integraleTotal))"
      ],
      "execution_count": 39,
      "outputs": [
        {
          "output_type": "stream",
          "text": [
            "Intégrale de f de 0 à 10 avec une précision de 0.0001 : 7590.150899269023\n",
            "Intégrale de g de -1 à 1 privé de 0 : -0.16855650739218664\n"
          ],
          "name": "stdout"
        }
      ]
    },
    {
      "cell_type": "markdown",
      "metadata": {
        "id": "tVtyJd_i-r61"
      },
      "source": [
        "Ex2: Méthode des trapèzes\n",
        "Le calcul numérique d’une intégrale par la méthode des trapèzes consiste à calculer une valeur approchée de l’intégrale $\\int_{a}^{b}f(x)dx$ en utilisant une interpolation linéaire de f par intervalles. Sur un intervalle [a,b], la valeur de l’intégrale peut être approchée par la surface du trapèzepassant par les points[a,0],[a,f(a)],[b,f(b)],[b,0]:\n",
        "$$\\int_{a}^{b}f(x)dx \\approx (b-a) \\left [ \\frac{f(a)+f(b)}{2} \\right ]$$\n",
        "\n",
        "Pour calculer une meilleur approximation de cette intégrale, on découpe l’intervalle [a,b] en n intervalles plus petits, de taille $\\frac{b-a}{n}$, et on calcule la somme des aires (signées) des trapèzes :\n",
        "$$\n",
        "\\int_{a}^{b}f(x)dx \\approx \\frac{(b-a)}{2n} \\sum_{k=i}^{n} \\left [ f(a+(k-i)\\frac{b-a}{n})+f(a+k\\frac{b-a}{n}) \\right ]$$\n",
        "\n",
        "1. Écrivez tous les termes de la somme ci-dessus pourn= 3, et observez qu’il estpossible de faire le calcul avec exactement n+ 1 = 4appels à la fonction f\n",
        "2. Écrire une fonction pythonintegrale_trapezes(a, b, n) qui calcule l’intégrale de la fonction f(x) de a à b avec n intervalles, en faisant au plus n+ 1 appels à la fonction f.\n",
        "3. Pour $f(x) =xsin(x2)$, calculez l’erreur numérique de son intégrale sur l’intervalle [0,√π], pour 2 à 30 intervalles."
      ]
    },
    {
      "cell_type": "code",
      "metadata": {
        "colab": {
          "base_uri": "https://localhost:8080/"
        },
        "id": "EflgeDUqHzUn",
        "outputId": "90ac420e-bfd4-45a4-b4e2-2878d984de3a"
      },
      "source": [
        "def f(x):\n",
        "  return x*math.sin(x**2)\n",
        "\n",
        "def integrale(f,a,b,n):\n",
        "  somme=0\n",
        "  tailleSegment=(b-a)/n\n",
        "  for i in range(n+1):\n",
        "    somme+=(f(a) * tailleSegment)\n",
        "    a+= tailleSegment\n",
        "  return somme\n",
        "\n",
        "def integraleTrapeze(f,a,b,n):\n",
        "  somme=0\n",
        "  prod=(b-a)/(2*n)\n",
        "  i=1\n",
        "  for k in range(i,n):\n",
        "    somme+=f(a+(k-i)*(b-a)/n) + f(a+k*(b-a)/n)\n",
        "  \n",
        "  return prod*somme\n",
        "\n",
        "print(\"Intégrale avec la méthode des trapèzes : \"+str(integraleTrapeze(f,0,math.sqrt(math.pi),30)))"
      ],
      "execution_count": 106,
      "outputs": [
        {
          "output_type": "stream",
          "text": [
            "Intégrale avec la méthode des trapèzes : 0.9878206872649367\n"
          ],
          "name": "stdout"
        }
      ]
    }
  ]
}